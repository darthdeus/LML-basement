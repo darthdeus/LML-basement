{
  "nbformat": 4,
  "nbformat_minor": 0,
  "metadata": {
    "colab": {
      "name": "WGAN.ipynb",
      "version": "0.3.2",
      "provenance": [],
      "collapsed_sections": []
    },
    "kernelspec": {
      "name": "python3",
      "display_name": "Python 3"
    },
    "accelerator": "GPU"
  },
  "cells": [
    {
      "metadata": {
        "id": "fhSLyT6GwPEc",
        "colab_type": "code",
        "colab": {}
      },
      "cell_type": "code",
      "source": [
        "import tensorflow as tf\n",
        "import numpy as np\n",
        "tf.enable_eager_execution()\n",
        "\n",
        "import os\n",
        "import time\n",
        "import numpy as np\n",
        "import glob\n",
        "import matplotlib.pyplot as plt\n",
        "import PIL\n",
        "from IPython import display"
      ],
      "execution_count": 0,
      "outputs": []
    },
    {
      "metadata": {
        "id": "CyAbWXyqbdK0",
        "colab_type": "code",
        "colab": {}
      },
      "cell_type": "code",
      "source": [
        "# Test how much GPU RAM on Google Colab\n",
        "!ln -sf /opt/bin/nvidia-smi /usr/bin/nvidia-smi\n",
        "!pip install gputil\n",
        "!pip install psutil\n",
        "!pip install humanize\n",
        "import psutil\n",
        "import humanize\n",
        "import GPUtil as GPU\n",
        "GPUs = GPU.getGPUs()\n",
        "# XXX: only one GPU on Colab and isn’t guaranteed\n",
        "gpu = GPUs[0]\n",
        "def printm():\n",
        " process = psutil.Process(os.getpid())\n",
        " print(\"Gen RAM Free: \" + humanize.naturalsize( psutil.virtual_memory().available ), \" | Proc size: \" + humanize.naturalsize( process.memory_info().rss))\n",
        " print(\"GPU RAM Free: {0:.0f}MB | Used: {1:.0f}MB | Util {2:3.0f}% | Total {3:.0f}MB\".format(gpu.memoryFree, gpu.memoryUsed, gpu.memoryUtil*100, gpu.memoryTotal))\n",
        "printm()"
      ],
      "execution_count": 0,
      "outputs": []
    },
    {
      "metadata": {
        "id": "7iLnmMsPWrLX",
        "colab_type": "code",
        "outputId": "6d9d048e-9108-4fde-d337-0215433fa30f",
        "colab": {
          "base_uri": "https://localhost:8080/",
          "height": 51
        }
      },
      "cell_type": "code",
      "source": [
        "(train_images, train_labels), (test_images, test_labels) = tf.keras.datasets.mnist.load_data()\n",
        "train_images = train_images.reshape(train_images.shape[0], 28, 28, 1).astype('float32')\n",
        "# Normalizing the images to the range of [-1, 1]\n",
        "train_images = (train_images - 127.5) / 127.5"
      ],
      "execution_count": 4,
      "outputs": [
        {
          "output_type": "stream",
          "text": [
            "Downloading data from https://storage.googleapis.com/tensorflow/tf-keras-datasets/mnist.npz\n",
            "11493376/11490434 [==============================] - 0s 0us/step\n"
          ],
          "name": "stdout"
        }
      ]
    },
    {
      "metadata": {
        "id": "XAs-5CUKaOyT",
        "colab_type": "code",
        "colab": {}
      },
      "cell_type": "code",
      "source": [
        "BUFFER_SIZE = 60000 # 60000 = number of train mnist images\n",
        "BATCH_SIZE = 64"
      ],
      "execution_count": 0,
      "outputs": []
    },
    {
      "metadata": {
        "id": "p0N0dlwaZg3V",
        "colab_type": "code",
        "colab": {}
      },
      "cell_type": "code",
      "source": [
        "train_dataset = tf.data.Dataset.from_tensor_slices(train_images).shuffle(BUFFER_SIZE).batch(BATCH_SIZE)"
      ],
      "execution_count": 0,
      "outputs": []
    },
    {
      "metadata": {
        "id": "1UwMmU7XafUY",
        "colab_type": "text"
      },
      "cell_type": "markdown",
      "source": [
        "### Define architecture"
      ]
    },
    {
      "metadata": {
        "id": "PbIwKSl4dT4g",
        "colab_type": "code",
        "colab": {}
      },
      "cell_type": "code",
      "source": [
        "class Critic(tf.keras.Model):\n",
        "  \n",
        "  def __init__(self):\n",
        "    super(Critic, self).__init__()\n",
        "    \n",
        "    self.conv1 = tf.keras.layers.Conv2D(64, 5, strides=2, input_shape=(28, 28, 1), padding='same')\n",
        "    self.conv2 = tf.keras.layers.Conv2D(128, 5, strides=2, padding='same')\n",
        "    self.conv3 = tf.keras.layers.Conv2D(256, 5, strides=2, padding='same')\n",
        "    self.conv4 = tf.keras.layers.Conv2D(512, 5, strides=1, padding='same')\n",
        "    \n",
        "    self.leaky = tf.keras.layers.LeakyReLU(0.3)\n",
        "    self.dropout = tf.keras.layers.Dropout(0.4)\n",
        "    self.flatten = tf.keras.layers.Flatten()\n",
        "    self.fc1 = tf.keras.layers.Dense(1, activation='sigmoid')\n",
        "    \n",
        "    \n",
        "  @tf.contrib.eager.defun  \n",
        "  def call(self, inputs, training=True):\n",
        "    x = self.conv1(inputs)\n",
        "    x = self.leaky(x)\n",
        "    \n",
        "    x = self.conv2(x)\n",
        "    x = self.leaky(x)\n",
        "    x = self.dropout(x, training=training)\n",
        "    \n",
        "    x = self.conv3(x)\n",
        "    x = self.leaky(x)\n",
        "    x = self.dropout(x, training=training)\n",
        "    \n",
        "    x = self.conv4(x)\n",
        "    x = self.leaky(x)\n",
        "    x = self.dropout(x, training=training)\n",
        "    \n",
        "    x = self.flatten(x)\n",
        "    return self.fc1(x)"
      ],
      "execution_count": 0,
      "outputs": []
    },
    {
      "metadata": {
        "id": "FI9KkQWaaqeR",
        "colab_type": "code",
        "colab": {}
      },
      "cell_type": "code",
      "source": [
        "class Generator(tf.keras.Model):\n",
        "  \n",
        "  def __init__(self):\n",
        "    super(Generator, self).__init__()\n",
        "    \n",
        "    self.fc1 = tf.keras.layers.Dense(7*7*256, input_dim=100)\n",
        "    self.batchnorm1 = tf.keras.layers.BatchNormalization(momentum=0.9)\n",
        "    \n",
        "    self.upsample1 = tf.keras.layers.UpSampling2D()\n",
        "    self.conv1 = tf.keras.layers.Conv2D(128, (5, 5), padding='same')\n",
        "    self.batchnorm2 = tf.keras.layers.BatchNormalization(momentum=0.9)\n",
        "                                        \n",
        "    self.upsample2 = tf.keras.layers.UpSampling2D()\n",
        "    self.conv2 = tf.keras.layers.Conv2D(64, (5, 5), padding='same')\n",
        "    self.batchnorm3 = tf.keras.layers.BatchNormalization(momentum=0.9)\n",
        "    \n",
        "    self.conv3 = tf.keras.layers.Conv2D(32, (5, 5), padding='same')\n",
        "    self.batchnorm4 = tf.keras.layers.BatchNormalization(momentum=0.9)\n",
        "    \n",
        "    self.conv4 = tf.keras.layers.Conv2D(1, (5, 5), padding='same', activation='sigmoid')\n",
        "                                        \n",
        "    self.leaky = tf.keras.layers.LeakyReLU(0.3)\n",
        "    self.dropout = tf.keras.layers.Dropout(0.4)\n",
        "    \n",
        "  @tf.contrib.eager.defun  \n",
        "  def call(self, inputs, training=True):\n",
        "    \n",
        "    x = self.fc1(inputs)\n",
        "    x = self.batchnorm1(x, training=training)\n",
        "    x = self.leaky(x)\n",
        "                                        \n",
        "    x = tf.reshape(x, shape=(-1, 7, 7, 256))\n",
        "    x = self.dropout(x, training=training)\n",
        "    \n",
        "    x = self.upsample1(x)\n",
        "    x = self.conv1(x)\n",
        "    x = self.batchnorm2(x, training=training)\n",
        "    x = self.leaky(x)\n",
        "                                        \n",
        "    x = self.upsample2(x)\n",
        "    x = self.conv2(x)\n",
        "    x = self.batchnorm3(x, training=training)\n",
        "    x = self.leaky(x)\n",
        "                                        \n",
        "    x = self.conv3(x)\n",
        "    x = self.batchnorm4(x, training=training)\n",
        "    x = self.leaky(x)\n",
        "                                        \n",
        "    return self.conv4(x)"
      ],
      "execution_count": 0,
      "outputs": []
    },
    {
      "metadata": {
        "id": "y-GJSyqrp6do",
        "colab_type": "code",
        "colab": {}
      },
      "cell_type": "code",
      "source": [
        "generator = Generator()\n",
        "critic = Critic()"
      ],
      "execution_count": 0,
      "outputs": []
    },
    {
      "metadata": {
        "id": "Nnze1oh4sEes",
        "colab_type": "code",
        "colab": {}
      },
      "cell_type": "code",
      "source": [
        "critic_opt = tf.train.RMSPropOptimizer(0.00005)\n",
        "gen_opt = tf.train.RMSPropOptimizer(0.00005)"
      ],
      "execution_count": 0,
      "outputs": []
    },
    {
      "metadata": {
        "id": "CBIy1aMXBcaC",
        "colab_type": "code",
        "colab": {}
      },
      "cell_type": "code",
      "source": [
        "checkpoint_dir = './training_checkpoints'\n",
        "checkpoint_prefix = os.path.join(checkpoint_dir, \"ckpt\")\n",
        "checkpoint = tf.train.Checkpoint(gen_opt=gen_opt,\n",
        "                                 critic_opt=critic_opt,\n",
        "                                 generator=generator,\n",
        "                                 critic=critic)"
      ],
      "execution_count": 0,
      "outputs": []
    },
    {
      "metadata": {
        "id": "HqH2NBmS6yJq",
        "colab_type": "code",
        "colab": {}
      },
      "cell_type": "code",
      "source": [
        "EPOCHS = 15\n",
        "LAMBDA = 10\n",
        "noise_dim = 100\n",
        "num_examples_to_generate = 16\n",
        "n_critic = 5\n",
        "\n",
        "# keeping the random vector constant for display so\n",
        "# it will be easier to see the improvement of the gan.\n",
        "random_vector_for_generation = tf.random_normal([num_examples_to_generate, noise_dim])"
      ],
      "execution_count": 0,
      "outputs": []
    },
    {
      "metadata": {
        "id": "fCWdk_uOBfVG",
        "colab_type": "code",
        "colab": {}
      },
      "cell_type": "code",
      "source": [
        "def generate_images(model, epoch, test_input):\n",
        "  # make sure the training parameter is set to False because we\n",
        "  # don't want to train the batchnorm layer when doing inference.\n",
        "  predictions = model(test_input, training=False)\n",
        "\n",
        "  fig = plt.figure(figsize=(4,4))\n",
        "  \n",
        "  for i in range(predictions.shape[0]):\n",
        "      plt.subplot(4, 4, i+1)\n",
        "      plt.imshow(predictions[i, :, :, 0] * 127.5 + 127.5, cmap='gray')\n",
        "      plt.axis('off')\n",
        "        \n",
        "  plt.savefig('image_at_epoch_{:04d}.png'.format(epoch))\n",
        "  plt.show()"
      ],
      "execution_count": 0,
      "outputs": []
    },
    {
      "metadata": {
        "id": "aMRcJ9kUBoMJ",
        "colab_type": "code",
        "colab": {}
      },
      "cell_type": "code",
      "source": [
        "def train(dataset, epochs, noise_dim):  \n",
        "  for epoch in range(epochs):\n",
        "    start = time.time()\n",
        "    \n",
        "    for images in dataset:\n",
        "      noise = tf.random_normal([BATCH_SIZE, noise_dim])\n",
        "      \n",
        "      with tf.GradientTape(persistent=True) as tape:\n",
        "        # CRITIC LOSS\n",
        "        generated_images = generator(noise)\n",
        "        critic_real = critic(images)\n",
        "        critic_fake = critic(generated_images)\n",
        "        critic_loss = tf.reduce_mean(critic_real) - tf.reduce_mean(critic_fake)\n",
        "        \n",
        "        # GRADIENT PENALTY - error incompatible shapes after ~100 batches\n",
        "        #with tape.stop_recording():\n",
        "        #  epsilon = tf.random_uniform(shape=[BATCH_SIZE, 1, 1, 1], minval=0., maxval=1.)\n",
        "        #  X_hat = images + epsilon * (generated_images - images)\n",
        "        #  def gp_func(X_hat):\n",
        "        #    return critic(X_hat)\n",
        "        #  gp_grad_func = tf.contrib.eager.gradients_function(gp_func)\n",
        "        #  grad_critic_X_hat = gp_grad_func(X_hat)[0]\n",
        "        #slopes = tf.sqrt(tf.reduce_sum(tf.square(grad_critic_X_hat), axis=[1, 2, 3]))\n",
        "        #gradient_penalty = tf.reduce_mean((slopes - 1.) ** 2)\n",
        "        #critic_loss += LAMBDA * gradient_penalty\n",
        "        \n",
        "        # GENERATOR LOSS\n",
        "        noise = tf.random_normal([BATCH_SIZE, noise_dim])\n",
        "        generated_images = generator(noise)\n",
        "        gen_loss = -tf.reduce_mean(critic_fake)\n",
        "        \n",
        "      \n",
        "      # CALCULATE GRADIENTS\n",
        "      gen_grad = tape.gradient(gen_loss, generator.variables)\n",
        "      critic_grad = tape.gradient(critic_loss, critic.variables)\n",
        "      \n",
        "      gen_opt.apply_gradients(zip(gen_grad, generator.variables))\n",
        "      critic_opt.apply_gradients(zip(critic_grad, critic.variables))\n",
        "      \n",
        "      # WGAN weight clipping - comment this out if using gradient penalty\n",
        "      for variable in critic.variables:\n",
        "        tf.clip_by_value(variable, -0.01, 0.01)\n",
        "      \n",
        "    generate_images(generator, epoch + 1, random_vector_for_generation)\n",
        "    \n",
        "    # checkpoint the model every 15 epochs\n",
        "    if (epoch + 1) % 15 == 0: checkpoint.save(file_prefix = checkpoint_prefix)\n",
        "    \n",
        "    print ('Time taken for epoch {} is {} sec'.format(epoch + 1, time.time()-start))\n",
        "  display.clear_output(wait=True)\n",
        "  generate_and_save_images(generator, epochs, random_vector_for_generation)"
      ],
      "execution_count": 0,
      "outputs": []
    },
    {
      "metadata": {
        "id": "q1e_YMjCBoeA",
        "colab_type": "code",
        "outputId": "2aab5e67-9438-4c74-dc9c-369447309bce",
        "colab": {
          "base_uri": "https://localhost:8080/",
          "height": 268
        }
      },
      "cell_type": "code",
      "source": [
        "train(train_dataset, EPOCHS, noise_dim)"
      ],
      "execution_count": 109,
      "outputs": [
        {
          "output_type": "display_data",
          "data": {
            "image/png": "[encoded data removed]",
            "text/plain": [
              "<Figure size 288x288 with 16 Axes>"
            ]
          },
          "metadata": {
            "tags": []
          }
        }
      ]
    }
  ]
}